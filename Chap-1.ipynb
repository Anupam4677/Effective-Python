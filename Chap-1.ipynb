{
 "cells": [
  {
   "cell_type": "code",
   "execution_count": 5,
   "metadata": {},
   "outputs": [
    {
     "name": "stdout",
     "output_type": "stream",
     "text": [
      "[104, 101, 108, 108, 111]\n",
      "b'hello'\n",
      "<class 'bytes'>\n"
     ]
    }
   ],
   "source": [
    "# know the difference between strings and bytes\n",
    "# conversion from strings to bytes \n",
    "def to_string(bytes_to_string):\n",
    "    if isinstance(bytes_to_string,bytes):\n",
    "        value = bytes_to_string.decode('utf-8')\n",
    "    else:\n",
    "        value = bytes_to_string\n",
    "    return value \n",
    "\n",
    "def to_bytes(string_to_bytes):\n",
    "    if isinstance(string_to_bytes,str):\n",
    "        value = string_to_bytes.encode('utf-8')\n",
    "    else:\n",
    "        value= string_to_bytes\n",
    "    return value\n",
    "\n",
    "\n",
    "# a = b'h\\x65llo'\n",
    "# print(list(a))\n",
    "# print(a)\n",
    "# print(type(a))\n",
    "# print(to_string(b'foo'))\n",
    "# print(to_string('bar'))\n",
    "# print(repr(to_string(b'foo')))"
   ]
  },
  {
   "cell_type": "code",
   "execution_count": 25,
   "metadata": {},
   "outputs": [
    {
     "name": "stdout",
     "output_type": "stream",
     "text": [
      "Anupam is a Software Developer.His salary is 100000 Rs per annum\n",
      "#0: Avacado    = 1.25\n",
      "#1: bananas    = 2.50\n",
      "#2: Cheries    = 15.00\n",
      "................\n",
      "#1: Avacado    = 1\n",
      "#2: Bananas    = 2\n",
      "#3: Cheries    = 15\n",
      "................\n",
      "Max loves food.Sess Max cook\n",
      "................\n",
      "old_way my_var     = 1.23\n",
      "new_way my_var     = 1.23\n",
      "reordered my_var     = 1.23\n",
      "................\n",
      "After: #3: Cheries    = 15\n",
      "Before: #3: Cheries    = 15\n",
      "..............................................\n",
      "123.46\n",
      "Anupam is 36 years of age\n",
      "..............................................\n",
      "my_var = 1.234\n",
      "'my_var'   = 1.23\n",
      "#1: Avacado    = 1\n",
      "#2: Bananas    = 2\n",
      "#3: Cheries    = 15\n"
     ]
    }
   ],
   "source": [
    "# Prefer Interpolated F-String over C-Type Format strings and str.format\n",
    "# C-Style format strings\n",
    "name = 'Anupam'\n",
    "job = 'Software Developer'\n",
    "salary = 100000\n",
    "print('%s is a %s.His salary is %d Rs per annum' % (name,job,salary))\n",
    "\n",
    "pantry = [\n",
    "    ('Avacado',1.25),\n",
    "    ('bananas',2.5),\n",
    "    ('Cheries',15)\n",
    "]\n",
    "\n",
    "for i,(item,count) in enumerate(pantry):\n",
    "    print('#%d: %-10s = %.2f' % (i,item,count))\n",
    "\n",
    "print('................')\n",
    "for i ,(item,count) in enumerate(pantry):\n",
    "    print('#%d: %-10s = %d' % (\n",
    "        i+1,\n",
    "        item.title(),\n",
    "        round(count)))\n",
    "print('................')\n",
    "template = \"%s loves food.Sess %s cook\"\n",
    "name = \"Max\"\n",
    "formatted = template % (name,name)\n",
    "print(formatted)\n",
    "print('................')\n",
    "Key = 'my_var'\n",
    "Value = 1.234\n",
    "old_way = '%-10s = %.2f' % (Key,Value)\n",
    "new_way = '%(key)-10s = %(value).2f' % {\n",
    "    'key':Key,'value':Value\n",
    "}\n",
    "reordered = '%(key)-10s = %(value).2f' % {\n",
    "   'value':Value, 'key':Key\n",
    "}\n",
    "print('old_way',old_way)\n",
    "print('new_way',old_way)\n",
    "print('reordered',old_way)\n",
    "print('................')\n",
    "for i ,(item,count) in enumerate(pantry):\n",
    "    before = '#%d: %-10s = %d' % (\n",
    "        i + 1,\n",
    "        item.title(),\n",
    "        round(count)\n",
    "    )\n",
    "    after = '#%(loop)d: %(item)-10s = %(count)d' % {\n",
    "        'loop':i + 1,\n",
    "        'item': item.title(),\n",
    "        'count':round(count)\n",
    "    }\n",
    "print('After:',after)\n",
    "print('Before:',before)\n",
    "print('..............................................')\n",
    "# Format Buid in and str.format\n",
    "a = 123.4567\n",
    "formatted = format(a,',.2f')\n",
    "print(formatted)\n",
    "name = 'Anupam'\n",
    "age='36'\n",
    "formatted = '{} is {} years of age'.format(name,age)\n",
    "print(formatted)\n",
    "\n",
    "print('..............................................')\n",
    "\n",
    "## Interpolation format string \n",
    "\n",
    "key = 'my_var'\n",
    "value = 1.234\n",
    "\n",
    "formatted = f'{key} = {value}'\n",
    "print(formatted)\n",
    "formatted = f'{key!r:<10} = {value:.2f}'\n",
    "print(formatted)\n",
    "\n",
    "for i ,(item,count) in enumerate(pantry):\n",
    "    f_string = f'#{i+1}: {item.title():<10s} = {round(count)}'\n",
    "    print(f_string)\n"
   ]
  },
  {
   "cell_type": "code",
   "execution_count": 19,
   "metadata": {},
   "outputs": [
    {
     "name": "stdout",
     "output_type": "stream",
     "text": [
      "5\n"
     ]
    }
   ],
   "source": [
    "# Write helper function instaed of comples Expressions\n",
    "from urllib.parse import parse_qs\n",
    "\n",
    "my_values = parse_qs('red=5&blue=0&green=',keep_blank_values=True)\n",
    "# print('Red:    ',my_values.get('red'))\n",
    "# print('Blue:    ',my_values.get('blue'))\n",
    "# print('Green:    ',my_values.get('green'))\n",
    "red = my_values.get('red',[''])[0] or 0 \n",
    "# green = my_values.get('green',[''])[0] or 0\n",
    "# print(green)\n",
    "\n",
    "def get_first_int(values,key,default=0):\n",
    "    found = values.get(key,[''])\n",
    "    if found[0]:\n",
    "        return int(found[0])\n",
    "    return default\n",
    "\n",
    "red = get_first_int(my_values,'red')\n",
    "print(red)"
   ]
  },
  {
   "cell_type": "code",
   "execution_count": 50,
   "metadata": {},
   "outputs": [
    {
     "name": "stdout",
     "output_type": "stream",
     "text": [
      "#0: bacon has 350 calories\n",
      "#1: donut has 240 calories\n",
      "#2: muffin has 190 calories\n"
     ]
    }
   ],
   "source": [
    "\n",
    "# Prefer Multiple Assignments Unpacking Over Indexing \n",
    "\n",
    "snack_calories = {\n",
    "    'chips': 140,\n",
    "    'popcorn':80,\n",
    "    'nuts':190\n",
    "}\n",
    "items = snack_calories.get('nuts')\n",
    "item = tuple(snack_calories.items())\n",
    "# print(item)\n",
    "\n",
    "item = ('Peanut Butter','Jelly')\n",
    "first,second = item\n",
    "# print(first,'and',second)\n",
    "\n",
    "favorite_snacks = {\n",
    "    'salty': ('pretzels',100),\n",
    "    'sweet':('cookies',180),\n",
    "    'veggie':('carrots',20)\n",
    "}\n",
    "listA = [54,34,92,11]\n",
    "def bubble_sort(alist):\n",
    "    # print(alist)\n",
    "  \n",
    "    for passum in range(len(alist)):\n",
    "        # print('passum:',passum)\n",
    "        for i in range(1,len(alist)):\n",
    "            # print('i:',i)\n",
    "            if alist[i] < alist[i-1]:\n",
    "                alist[i-1],alist[i] = alist[i],alist[i-1]\n",
    "\n",
    "    return alist\n",
    "bubble_sort(listA)\n",
    "\n",
    "snacks = [('bacon',350),('donut',240),('muffin',190)]\n",
    "for i ,(item,price) in enumerate(snacks):\n",
    "    print(f'#{i}: {item} has {price} calories')\n",
    "\n",
    "\n"
   ]
  },
  {
   "cell_type": "code",
   "execution_count": 39,
   "metadata": {},
   "outputs": [
    {
     "data": {
      "text/plain": [
       "11"
      ]
     },
     "execution_count": 39,
     "metadata": {},
     "output_type": "execute_result"
    }
   ],
   "source": [
    "# prefer enumerate over range \n"
   ]
  },
  {
   "cell_type": "code",
   "execution_count": null,
   "metadata": {},
   "outputs": [],
   "source": [
    "\n"
   ]
  },
  {
   "cell_type": "code",
   "execution_count": null,
   "metadata": {},
   "outputs": [],
   "source": []
  },
  {
   "cell_type": "code",
   "execution_count": null,
   "metadata": {},
   "outputs": [],
   "source": []
  },
  {
   "cell_type": "code",
   "execution_count": null,
   "metadata": {},
   "outputs": [],
   "source": [
    "\n",
    "\n",
    "\n",
    "\n"
   ]
  },
  {
   "cell_type": "code",
   "execution_count": null,
   "metadata": {},
   "outputs": [],
   "source": []
  },
  {
   "cell_type": "code",
   "execution_count": null,
   "metadata": {},
   "outputs": [],
   "source": []
  },
  {
   "cell_type": "code",
   "execution_count": null,
   "metadata": {},
   "outputs": [],
   "source": []
  },
  {
   "cell_type": "code",
   "execution_count": null,
   "metadata": {},
   "outputs": [],
   "source": []
  },
  {
   "cell_type": "code",
   "execution_count": null,
   "metadata": {},
   "outputs": [],
   "source": []
  },
  {
   "cell_type": "code",
   "execution_count": null,
   "metadata": {},
   "outputs": [],
   "source": []
  },
  {
   "cell_type": "code",
   "execution_count": null,
   "metadata": {},
   "outputs": [],
   "source": []
  },
  {
   "cell_type": "code",
   "execution_count": null,
   "metadata": {},
   "outputs": [],
   "source": []
  },
  {
   "cell_type": "code",
   "execution_count": 57,
   "metadata": {},
   "outputs": [],
   "source": []
  },
  {
   "cell_type": "code",
   "execution_count": null,
   "metadata": {},
   "outputs": [],
   "source": []
  },
  {
   "cell_type": "code",
   "execution_count": null,
   "metadata": {},
   "outputs": [],
   "source": []
  },
  {
   "cell_type": "code",
   "execution_count": null,
   "metadata": {},
   "outputs": [],
   "source": []
  },
  {
   "cell_type": "code",
   "execution_count": null,
   "metadata": {},
   "outputs": [],
   "source": []
  },
  {
   "cell_type": "code",
   "execution_count": null,
   "metadata": {},
   "outputs": [],
   "source": []
  },
  {
   "cell_type": "code",
   "execution_count": null,
   "metadata": {},
   "outputs": [],
   "source": []
  },
  {
   "cell_type": "code",
   "execution_count": null,
   "metadata": {},
   "outputs": [],
   "source": []
  }
 ],
 "metadata": {
  "kernelspec": {
   "display_name": "Python 3.10.0 64-bit",
   "language": "python",
   "name": "python3"
  },
  "language_info": {
   "codemirror_mode": {
    "name": "ipython",
    "version": 3
   },
   "file_extension": ".py",
   "mimetype": "text/x-python",
   "name": "python",
   "nbconvert_exporter": "python",
   "pygments_lexer": "ipython3",
   "version": "3.10.0"
  },
  "orig_nbformat": 4,
  "vscode": {
   "interpreter": {
    "hash": "369f2c481f4da34e4445cda3fffd2e751bd1c4d706f27375911949ba6bb62e1c"
   }
  }
 },
 "nbformat": 4,
 "nbformat_minor": 2
}
