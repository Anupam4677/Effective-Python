{
 "cells": [
  {
   "cell_type": "code",
   "execution_count": 5,
   "metadata": {},
   "outputs": [
    {
     "name": "stdout",
     "output_type": "stream",
     "text": [
      "[104, 101, 108, 108, 111]\n",
      "b'hello'\n",
      "<class 'bytes'>\n"
     ]
    }
   ],
   "source": [
    "# know the difference between strings and bytes\n",
    "# conversion from strings to bytes \n",
    "def to_string(bytes_to_string):\n",
    "    if isinstance(bytes_to_string,bytes):\n",
    "        value = bytes_to_string.decode('utf-8')\n",
    "    else:\n",
    "        value = bytes_to_string\n",
    "    return value \n",
    "\n",
    "def to_bytes(string_to_bytes):\n",
    "    if isinstance(string_to_bytes,str):\n",
    "        value = string_to_bytes.encode('utf-8')\n",
    "    else:\n",
    "        value= string_to_bytes\n",
    "    return value\n",
    "\n",
    "\n",
    "# a = b'h\\x65llo'\n",
    "# print(list(a))\n",
    "# print(a)\n",
    "# print(type(a))\n",
    "# print(to_string(b'foo'))\n",
    "# print(to_string('bar'))\n",
    "# print(repr(to_string(b'foo')))"
   ]
  },
  {
   "cell_type": "code",
   "execution_count": 25,
   "metadata": {},
   "outputs": [
    {
     "name": "stdout",
     "output_type": "stream",
     "text": [
      "Anupam is a Software Developer.His salary is 100000 Rs per annum\n",
      "#0: Avacado    = 1.25\n",
      "#1: bananas    = 2.50\n",
      "#2: Cheries    = 15.00\n",
      "................\n",
      "#1: Avacado    = 1\n",
      "#2: Bananas    = 2\n",
      "#3: Cheries    = 15\n",
      "................\n",
      "Max loves food.Sess Max cook\n",
      "................\n",
      "old_way my_var     = 1.23\n",
      "new_way my_var     = 1.23\n",
      "reordered my_var     = 1.23\n",
      "................\n",
      "After: #3: Cheries    = 15\n",
      "Before: #3: Cheries    = 15\n",
      "..............................................\n",
      "123.46\n",
      "Anupam is 36 years of age\n",
      "..............................................\n",
      "my_var = 1.234\n",
      "'my_var'   = 1.23\n",
      "#1: Avacado    = 1\n",
      "#2: Bananas    = 2\n",
      "#3: Cheries    = 15\n"
     ]
    }
   ],
   "source": [
    "# Prefer Interpolated F-String over C-Type Format strings and str.format\n",
    "# C-Style format strings\n",
    "name = 'Anupam'\n",
    "job = 'Software Developer'\n",
    "salary = 100000\n",
    "print('%s is a %s.His salary is %d Rs per annum' % (name,job,salary))\n",
    "\n",
    "pantry = [\n",
    "    ('Avacado',1.25),\n",
    "    ('bananas',2.5),\n",
    "    ('Cheries',15)\n",
    "]\n",
    "\n",
    "for i,(item,count) in enumerate(pantry):\n",
    "    print('#%d: %-10s = %.2f' % (i,item,count))\n",
    "\n",
    "print('................')\n",
    "for i ,(item,count) in enumerate(pantry):\n",
    "    print('#%d: %-10s = %d' % (\n",
    "        i+1,\n",
    "        item.title(),\n",
    "        round(count)))\n",
    "print('................')\n",
    "template = \"%s loves food.Sess %s cook\"\n",
    "name = \"Max\"\n",
    "formatted = template % (name,name)\n",
    "print(formatted)\n",
    "print('................')\n",
    "Key = 'my_var'\n",
    "Value = 1.234\n",
    "old_way = '%-10s = %.2f' % (Key,Value)\n",
    "new_way = '%(key)-10s = %(value).2f' % {\n",
    "    'key':Key,'value':Value\n",
    "}\n",
    "reordered = '%(key)-10s = %(value).2f' % {\n",
    "   'value':Value, 'key':Key\n",
    "}\n",
    "print('old_way',old_way)\n",
    "print('new_way',old_way)\n",
    "print('reordered',old_way)\n",
    "print('................')\n",
    "for i ,(item,count) in enumerate(pantry):\n",
    "    before = '#%d: %-10s = %d' % (\n",
    "        i + 1,\n",
    "        item.title(),\n",
    "        round(count)\n",
    "    )\n",
    "    after = '#%(loop)d: %(item)-10s = %(count)d' % {\n",
    "        'loop':i + 1,\n",
    "        'item': item.title(),\n",
    "        'count':round(count)\n",
    "    }\n",
    "print('After:',after)\n",
    "print('Before:',before)\n",
    "print('..............................................')\n",
    "# Format Buid in and str.format\n",
    "a = 123.4567\n",
    "formatted = format(a,',.2f')\n",
    "print(formatted)\n",
    "name = 'Anupam'\n",
    "age='36'\n",
    "formatted = '{} is {} years of age'.format(name,age)\n",
    "print(formatted)\n",
    "\n",
    "print('..............................................')\n",
    "\n",
    "## Interpolation format string \n",
    "\n",
    "key = 'my_var'\n",
    "value = 1.234\n",
    "\n",
    "formatted = f'{key} = {value}'\n",
    "print(formatted)\n",
    "formatted = f'{key!r:<10} = {value:.2f}'\n",
    "print(formatted)\n",
    "\n",
    "for i ,(item,count) in enumerate(pantry):\n",
    "    f_string = f'#{i+1}: {item.title():<10s} = {round(count)}'\n",
    "    print(f_string)\n"
   ]
  },
  {
   "cell_type": "code",
   "execution_count": 27,
   "metadata": {},
   "outputs": [
    {
     "name": "stdout",
     "output_type": "stream",
     "text": [
      "a\n"
     ]
    }
   ],
   "source": [
    "# Write helper function instaed of comples Expressions\n",
    "# AA NEW CODE \n",
    "print('a')\n"
   ]
  },
  {
   "cell_type": "code",
   "execution_count": null,
   "metadata": {},
   "outputs": [],
   "source": [
    "\n"
   ]
  },
  {
   "cell_type": "code",
   "execution_count": 15,
   "metadata": {},
   "outputs": [],
   "source": []
  },
  {
   "cell_type": "code",
   "execution_count": null,
   "metadata": {},
   "outputs": [],
   "source": [
    "\n"
   ]
  },
  {
   "cell_type": "code",
   "execution_count": null,
   "metadata": {},
   "outputs": [],
   "source": []
  },
  {
   "cell_type": "code",
   "execution_count": null,
   "metadata": {},
   "outputs": [],
   "source": []
  },
  {
   "cell_type": "code",
   "execution_count": 23,
   "metadata": {},
   "outputs": [
    {
     "name": "stdout",
     "output_type": "stream",
     "text": [
      "#0: guava      = 10.00\n",
      "#1: Mango      = 90.00\n",
      "#2: cherries   = 15.00\n",
      "#1: Guava      = 10.00\n",
      "#2: Mango      = 90.00\n",
      "#3: Cherries   = 15.00\n"
     ]
    }
   ],
   "source": [
    "pantry = [\n",
    "    ('guava',10),\n",
    "    ('Mango',90),\n",
    "    ('cherries',15)\n",
    "]\n",
    "\n",
    "for i ,(item,count) in enumerate(pantry):\n",
    "    print('#%d: %-10s = %.2f' % (i,item,count))\n",
    "\n",
    "for i ,(item,count) in enumerate(pantry):\n",
    "    print('#%d: %-10s = %.2f' % (i+1,item.title(),round(count)))\n",
    "\n",
    "\n",
    "\n"
   ]
  },
  {
   "cell_type": "code",
   "execution_count": 4,
   "metadata": {},
   "outputs": [
    {
     "name": "stdout",
     "output_type": "stream",
     "text": [
      "{'red': ['5'], 'blue': ['0']}\n",
      "<class 'dict'>\n"
     ]
    }
   ],
   "source": [
    "from urllib.parse import parse_qs\n",
    "\n",
    "my_values = parse_qs('red=5&blue=0&green=')\n",
    "print(my_values)\n",
    "print(type(my_values))"
   ]
  },
  {
   "cell_type": "code",
   "execution_count": 5,
   "metadata": {},
   "outputs": [
    {
     "name": "stdout",
     "output_type": "stream",
     "text": [
      "{'red': ['5'], 'blue': ['0'], 'green': ['']}\n",
      "<class 'dict'>\n"
     ]
    }
   ],
   "source": [
    "from urllib.parse import parse_qs\n",
    "\n",
    "my_values = parse_qs('red=5&blue=0&green=',keep_blank_values=True)\n",
    "print(my_values)\n",
    "print(type(my_values))"
   ]
  },
  {
   "cell_type": "code",
   "execution_count": 8,
   "metadata": {},
   "outputs": [
    {
     "name": "stdout",
     "output_type": "stream",
     "text": [
      "Red:  ['5']\n",
      "blue:  ['0']\n",
      "green:  ['']\n",
      "Opacity:  None\n"
     ]
    }
   ],
   "source": [
    "print('Red: ',my_values.get('red'))\n",
    "print('blue: ',my_values.get('blue'))\n",
    "print('green: ',my_values.get('green'))\n",
    "print('Opacity: ',my_values.get('Opacity'))"
   ]
  },
  {
   "cell_type": "code",
   "execution_count": 44,
   "metadata": {},
   "outputs": [],
   "source": [
    "# when key is present he first part works , When key is not after or part \n",
    "red = my_values.get('red',[''])[0] or 0\n",
    "green = my_values.get('green',['b'])[0] or 0\n",
    "Opacity = my_values.get('opacity',[''])[0] or 1"
   ]
  },
  {
   "cell_type": "code",
   "execution_count": 45,
   "metadata": {},
   "outputs": [
    {
     "name": "stdout",
     "output_type": "stream",
     "text": [
      "Red:   '5'\n",
      "Green:   0\n",
      "Opacity:   1\n"
     ]
    }
   ],
   "source": [
    "# !r put red into ''\n",
    "print(f'Red:   {red!r}')\n",
    "print(f'Green:   {green!r}')\n",
    "print(f'Opacity:   {Opacity!r}')"
   ]
  },
  {
   "cell_type": "code",
   "execution_count": 47,
   "metadata": {},
   "outputs": [
    {
     "name": "stdout",
     "output_type": "stream",
     "text": [
      "5\n",
      "<class 'int'>\n"
     ]
    }
   ],
   "source": [
    "red = int(my_values.get('red',[''])[0] or 0)\n",
    "print(red)\n",
    "print(type(red))"
   ]
  },
  {
   "cell_type": "code",
   "execution_count": 53,
   "metadata": {},
   "outputs": [
    {
     "name": "stdout",
     "output_type": "stream",
     "text": [
      "['5']\n"
     ]
    }
   ],
   "source": [
    "red_str = my_values.get('red',[''])\n",
    "red = int(red_str[0]) if red_str[0] else 0\n",
    "print(red_str)"
   ]
  },
  {
   "cell_type": "code",
   "execution_count": 54,
   "metadata": {},
   "outputs": [],
   "source": [
    "green_str = my_values.get('green',[''])\n",
    "if green_str[0]:\n",
    "    green = int(green_str[0])\n",
    "else:\n",
    "    green = 0 "
   ]
  },
  {
   "cell_type": "code",
   "execution_count": 57,
   "metadata": {},
   "outputs": [],
   "source": [
    "def get_first_int(values,key,default=0):\n",
    "    found = values.get(key,[''])\n",
    "    if found[0]:\n",
    "        return int(found[0])\n",
    "    return default"
   ]
  },
  {
   "cell_type": "code",
   "execution_count": 60,
   "metadata": {},
   "outputs": [
    {
     "name": "stdout",
     "output_type": "stream",
     "text": [
      "5\n"
     ]
    }
   ],
   "source": [
    "green = get_first_int(my_values,'green')\n",
    "print(red)"
   ]
  },
  {
   "cell_type": "code",
   "execution_count": 66,
   "metadata": {},
   "outputs": [
    {
     "name": "stdout",
     "output_type": "stream",
     "text": [
      "(('chips', 140), ('popcorn', 180), ('nuts', 190))\n",
      "(('chips', 140), ('popcorn', 180), ('nuts', 190))\n"
     ]
    }
   ],
   "source": [
    "snack_calories = {\n",
    "    'chips':140,\n",
    "    'popcorn':180,\n",
    "    'nuts':190\n",
    "}\n",
    "# print(type(snack_calories))\n",
    "items = tuple(snack_calories.items())\n",
    "print(items)\n",
    "print(repr(items))"
   ]
  },
  {
   "cell_type": "code",
   "execution_count": 65,
   "metadata": {},
   "outputs": [
    {
     "name": "stdout",
     "output_type": "stream",
     "text": [
      "{'chips': 140, 'popcorn': 180, 'nuts': 190}\n",
      "dict_items([('chips', 140), ('popcorn', 180), ('nuts', 190)])\n"
     ]
    }
   ],
   "source": [
    "print(snack_calories)\n",
    "print(snack_calories.items())"
   ]
  },
  {
   "cell_type": "code",
   "execution_count": 67,
   "metadata": {},
   "outputs": [
    {
     "name": "stdout",
     "output_type": "stream",
     "text": [
      "first: peanut, second: Jelly\n"
     ]
    }
   ],
   "source": [
    "item = (\"peanut\",'Jelly')\n",
    "first , second = item\n",
    "print(f'first: {first}, second: {second}')"
   ]
  },
  {
   "cell_type": "code",
   "execution_count": 68,
   "metadata": {},
   "outputs": [
    {
     "name": "stdout",
     "output_type": "stream",
     "text": [
      "#1:becon has 350 calories\n",
      "#2:donut has 240 calories\n",
      "#3:muffin has 360 calories\n"
     ]
    }
   ],
   "source": [
    "snack = [('becon',350),('donut',240),('muffin',360)]\n",
    "for i in range(len(snack)):\n",
    "    item = snack[i]\n",
    "    name = item[0]\n",
    "    calories = item[1]\n",
    "    print(f\"#{i+1}:{name} has {calories} calories\")"
   ]
  },
  {
   "cell_type": "code",
   "execution_count": 71,
   "metadata": {},
   "outputs": [
    {
     "name": "stdout",
     "output_type": "stream",
     "text": [
      "Rank:0,Name:becon,Calories:350\n",
      "Rank:1,Name:donut,Calories:240\n",
      "Rank:2,Name:muffin,Calories:360\n"
     ]
    }
   ],
   "source": [
    "for rank,(name,calories) in enumerate(snack):\n",
    "    print(f'Rank:{rank},Name:{name},Calories:{calories}')"
   ]
  },
  {
   "cell_type": "code",
   "execution_count": 74,
   "metadata": {},
   "outputs": [
    {
     "name": "stdout",
     "output_type": "stream",
     "text": [
      "(0, 'Vanilla')\n",
      "(0, ('becon', 350))\n"
     ]
    }
   ],
   "source": [
    "flavor_list = ['Vanilla','Choclate','Pean','Strwaberry']\n",
    "snack = [('becon',350),('donut',240),('muffin',360)]\n",
    "it = enumerate(flavor_list)\n",
    "it_snack = enumerate(snack)\n",
    "print(next(it))\n",
    "print(next(it_snack))"
   ]
  }
 ],
 "metadata": {
  "kernelspec": {
   "display_name": "Python 3.10.0 64-bit",
   "language": "python",
   "name": "python3"
  },
  "language_info": {
   "codemirror_mode": {
    "name": "ipython",
    "version": 3
   },
   "file_extension": ".py",
   "mimetype": "text/x-python",
   "name": "python",
   "nbconvert_exporter": "python",
   "pygments_lexer": "ipython3",
   "version": "3.10.0 (tags/v3.10.0:b494f59, Oct  4 2021, 19:00:18) [MSC v.1929 64 bit (AMD64)]"
  },
  "orig_nbformat": 4,
  "vscode": {
   "interpreter": {
    "hash": "369f2c481f4da34e4445cda3fffd2e751bd1c4d706f27375911949ba6bb62e1c"
   }
  }
 },
 "nbformat": 4,
 "nbformat_minor": 2
}
