{
 "cells": [
  {
   "cell_type": "code",
   "execution_count": 5,
   "metadata": {},
   "outputs": [
    {
     "name": "stdout",
     "output_type": "stream",
     "text": [
      "[104, 101, 108, 108, 111]\n",
      "b'hello'\n",
      "<class 'bytes'>\n"
     ]
    }
   ],
   "source": [
    "# know the difference between strings and bytes\n",
    "# conversion from strings to bytes \n",
    "def to_string(bytes_to_string):\n",
    "    if isinstance(bytes_to_string,bytes):\n",
    "        value = bytes_to_string.decode('utf-8')\n",
    "    else:\n",
    "        value = bytes_to_string\n",
    "    return value \n",
    "\n",
    "def to_bytes(string_to_bytes):\n",
    "    if isinstance(string_to_bytes,str):\n",
    "        value = string_to_bytes.encode('utf-8')\n",
    "    else:\n",
    "        value= string_to_bytes\n",
    "    return value\n",
    "\n",
    "\n",
    "# a = b'h\\x65llo'\n",
    "# print(list(a))\n",
    "# print(a)\n",
    "# print(type(a))\n",
    "# print(to_string(b'foo'))\n",
    "# print(to_string('bar'))\n",
    "# print(repr(to_string(b'foo')))"
   ]
  },
  {
   "cell_type": "code",
   "execution_count": 25,
   "metadata": {},
   "outputs": [
    {
     "name": "stdout",
     "output_type": "stream",
     "text": [
      "Anupam is a Software Developer.His salary is 100000 Rs per annum\n",
      "#0: Avacado    = 1.25\n",
      "#1: bananas    = 2.50\n",
      "#2: Cheries    = 15.00\n",
      "................\n",
      "#1: Avacado    = 1\n",
      "#2: Bananas    = 2\n",
      "#3: Cheries    = 15\n",
      "................\n",
      "Max loves food.Sess Max cook\n",
      "................\n",
      "old_way my_var     = 1.23\n",
      "new_way my_var     = 1.23\n",
      "reordered my_var     = 1.23\n",
      "................\n",
      "After: #3: Cheries    = 15\n",
      "Before: #3: Cheries    = 15\n",
      "..............................................\n",
      "123.46\n",
      "Anupam is 36 years of age\n",
      "..............................................\n",
      "my_var = 1.234\n",
      "'my_var'   = 1.23\n",
      "#1: Avacado    = 1\n",
      "#2: Bananas    = 2\n",
      "#3: Cheries    = 15\n"
     ]
    }
   ],
   "source": [
    "# Prefer Interpolated F-String over C-Type Format strings and str.format\n",
    "# C-Style format strings\n",
    "name = 'Anupam'\n",
    "job = 'Software Developer'\n",
    "salary = 100000\n",
    "print('%s is a %s.His salary is %d Rs per annum' % (name,job,salary))\n",
    "\n",
    "pantry = [\n",
    "    ('Avacado',1.25),\n",
    "    ('bananas',2.5),\n",
    "    ('Cheries',15)\n",
    "]\n",
    "\n",
    "for i,(item,count) in enumerate(pantry):\n",
    "    print('#%d: %-10s = %.2f' % (i,item,count))\n",
    "\n",
    "print('................')\n",
    "for i ,(item,count) in enumerate(pantry):\n",
    "    print('#%d: %-10s = %d' % (\n",
    "        i+1,\n",
    "        item.title(),\n",
    "        round(count)))\n",
    "print('................')\n",
    "template = \"%s loves food.Sess %s cook\"\n",
    "name = \"Max\"\n",
    "formatted = template % (name,name)\n",
    "print(formatted)\n",
    "print('................')\n",
    "Key = 'my_var'\n",
    "Value = 1.234\n",
    "old_way = '%-10s = %.2f' % (Key,Value)\n",
    "new_way = '%(key)-10s = %(value).2f' % {\n",
    "    'key':Key,'value':Value\n",
    "}\n",
    "reordered = '%(key)-10s = %(value).2f' % {\n",
    "   'value':Value, 'key':Key\n",
    "}\n",
    "print('old_way',old_way)\n",
    "print('new_way',old_way)\n",
    "print('reordered',old_way)\n",
    "print('................')\n",
    "for i ,(item,count) in enumerate(pantry):\n",
    "    before = '#%d: %-10s = %d' % (\n",
    "        i + 1,\n",
    "        item.title(),\n",
    "        round(count)\n",
    "    )\n",
    "    after = '#%(loop)d: %(item)-10s = %(count)d' % {\n",
    "        'loop':i + 1,\n",
    "        'item': item.title(),\n",
    "        'count':round(count)\n",
    "    }\n",
    "print('After:',after)\n",
    "print('Before:',before)\n",
    "print('..............................................')\n",
    "# Format Buid in and str.format\n",
    "a = 123.4567\n",
    "formatted = format(a,',.2f')\n",
    "print(formatted)\n",
    "name = 'Anupam'\n",
    "age='36'\n",
    "formatted = '{} is {} years of age'.format(name,age)\n",
    "print(formatted)\n",
    "\n",
    "print('..............................................')\n",
    "\n",
    "## Interpolation format string \n",
    "\n",
    "key = 'my_var'\n",
    "value = 1.234\n",
    "\n",
    "formatted = f'{key} = {value}'\n",
    "print(formatted)\n",
    "formatted = f'{key!r:<10} = {value:.2f}'\n",
    "print(formatted)\n",
    "\n",
    "for i ,(item,count) in enumerate(pantry):\n",
    "    f_string = f'#{i+1}: {item.title():<10s} = {round(count)}'\n",
    "    print(f_string)\n"
   ]
  },
  {
   "cell_type": "code",
   "execution_count": 19,
   "metadata": {},
   "outputs": [
    {
     "name": "stdout",
     "output_type": "stream",
     "text": [
      "5\n"
     ]
    }
   ],
   "source": [
    "# Write helper function instaed of comples Expressions\n",
    "from urllib.parse import parse_qs\n",
    "\n",
    "my_values = parse_qs('red=5&blue=0&green=',keep_blank_values=True)\n",
    "# print('Red:    ',my_values.get('red'))\n",
    "# print('Blue:    ',my_values.get('blue'))\n",
    "# print('Green:    ',my_values.get('green'))\n",
    "red = my_values.get('red',[''])[0] or 0 \n",
    "# green = my_values.get('green',[''])[0] or 0\n",
    "# print(green)\n",
    "\n",
    "def get_first_int(values,key,default=0):\n",
    "    found = values.get(key,[''])\n",
    "    if found[0]:\n",
    "        return int(found[0])\n",
    "    return default\n",
    "\n",
    "red = get_first_int(my_values,'red')\n",
    "print(red)"
   ]
  },
  {
   "cell_type": "code",
   "execution_count": 50,
   "metadata": {},
   "outputs": [
    {
     "name": "stdout",
     "output_type": "stream",
     "text": [
      "#0: bacon has 350 calories\n",
      "#1: donut has 240 calories\n",
      "#2: muffin has 190 calories\n"
     ]
    }
   ],
   "source": [
    "\n",
    "# Prefer Multiple Assignments Unpacking Over Indexing \n",
    "\n",
    "snack_calories = {\n",
    "    'chips': 140,\n",
    "    'popcorn':80,\n",
    "    'nuts':190\n",
    "}\n",
    "items = snack_calories.get('nuts')\n",
    "item = tuple(snack_calories.items())\n",
    "# print(item)\n",
    "\n",
    "item = ('Peanut Butter','Jelly')\n",
    "first,second = item\n",
    "# print(first,'and',second)\n",
    "\n",
    "favorite_snacks = {\n",
    "    'salty': ('pretzels',100),\n",
    "    'sweet':('cookies',180),\n",
    "    'veggie':('carrots',20)\n",
    "}\n",
    "listA = [54,34,92,11]\n",
    "def bubble_sort(alist):\n",
    "    # print(alist)\n",
    "  \n",
    "    for passum in range(len(alist)):\n",
    "        # print('passum:',passum)\n",
    "        for i in range(1,len(alist)):\n",
    "            # print('i:',i)\n",
    "            if alist[i] < alist[i-1]:\n",
    "                alist[i-1],alist[i] = alist[i],alist[i-1]\n",
    "\n",
    "    return alist\n",
    "bubble_sort(listA)\n",
    "\n",
    "snacks = [('bacon',350),('donut',240),('muffin',190)]\n",
    "for i ,(item,price) in enumerate(snacks):\n",
    "    print(f'#{i}: {item} has {price} calories')\n",
    "\n",
    "\n"
   ]
  },
  {
   "cell_type": "code",
   "execution_count": 11,
   "metadata": {},
   "outputs": [
    {
     "name": "stdout",
     "output_type": "stream",
     "text": [
      "vanilla is delicious\n",
      "chocclate is delicious\n",
      "pecan is delicious\n",
      "strawberry is delicious\n",
      "..................\n",
      "0:vanilla\n",
      "1:chocclate\n",
      "2:pecan\n",
      "3:strawberry\n",
      "..................\n",
      "1:vanilla\n",
      "2:chocclate\n",
      "3:pecan\n",
      "4:strawberry\n"
     ]
    }
   ],
   "source": [
    "# prefer enumerate over range \n",
    "flavor_list = ['vanilla','chocclate','pecan','strawberry']\n",
    "for flavor in flavor_list:\n",
    "    print(f\"{flavor} is delicious\")\n",
    "\n",
    "for i in range(len(flavor_list)):\n",
    "    flavor = flavor_list[i] \n",
    "    # print(f'{i+1}:{flavor}')\n",
    "\n",
    "\n",
    "it = enumerate(flavor_list)\n",
    "# print(next(it))\n",
    "# print(next(it))\n",
    "print('..................')\n",
    "for i, flavor in enumerate(flavor_list):\n",
    "    print(f'{i}:{flavor}')\n",
    "print('..................')\n",
    "for i, flavor in enumerate(flavor_list,1):\n",
    "    print(f'{i}:{flavor}')\n"
   ]
  },
  {
   "cell_type": "code",
   "execution_count": 22,
   "metadata": {},
   "outputs": [
    {
     "name": "stdout",
     "output_type": "stream",
     "text": [
      "[7, 4, 5, 6, 7, 11, 5]\n",
      "Shyamsunder\n",
      "Shyamsunder\n"
     ]
    }
   ],
   "source": [
    "\n",
    "# use zip to process Iteractors in Parallel\n",
    "\n",
    "name = ['cecilia','Lise','Marie','Anupam','Anubhav','Shyamsunder','Roger']\n",
    "counts = [len(n) for n in name]\n",
    "print(counts)\n",
    "\n",
    "longest_name = None\n",
    "max_count = 0 \n",
    "for i in range(len(name)):\n",
    "    count = counts[i]\n",
    "    if count > max_count:\n",
    "        longest_name = name[i]\n",
    "        max_count = count\n",
    "        \n",
    "\n",
    "print(longest_name)\n",
    "\n",
    "for i , name in enumerate(name): \n",
    "    count = counts[1]\n",
    "    if count > max_count:\n",
    "        longest_name = name\n",
    "        max_count = count\n",
    "\n",
    "print(longest_name)\n",
    "\n",
    "        \n"
   ]
  },
  {
   "cell_type": "code",
   "execution_count": 8,
   "metadata": {},
   "outputs": [
    {
     "name": "stdout",
     "output_type": "stream",
     "text": [
      "Shyamsunder\n",
      "cecilia 7\n",
      "Lise 4\n",
      "Marie 5\n",
      "Anupam 6\n",
      "Anubhav 7\n",
      "Shyamsunder 11\n",
      "Roger 5\n",
      "cecilia:7\n",
      "Lise:4\n",
      "Marie:5\n",
      "Anupam:6\n",
      "Anubhav:7\n",
      "Shyamsunder:11\n",
      "Roger:5\n",
      "Rajeswari:None\n"
     ]
    }
   ],
   "source": [
    "names = ['cecilia','Lise','Marie','Anupam','Anubhav','Shyamsunder','Roger']\n",
    "counts = [len(n) for n in names]\n",
    "max_count = 0\n",
    "for nam , count in zip(names,counts):\n",
    "    # print(nam,count)\n",
    "    if count > max_count:\n",
    "        longest_name = nam\n",
    "        max_count = count\n",
    "\n",
    "print(longest_name)\n",
    "\n",
    "names.append('Rajeswari')\n",
    "for name,count in zip(names,counts):\n",
    "    print(name,count)\n",
    "\n",
    "# you will not find the appended val rajeswari \n",
    "\n",
    "import itertools\n",
    "for name , count in itertools.zip_longest(names,counts):\n",
    "    print(f\"{name}:{count}\")\n",
    "\n",
    "\n"
   ]
  },
  {
   "cell_type": "code",
   "execution_count": 29,
   "metadata": {},
   "outputs": [
    {
     "name": "stdout",
     "output_type": "stream",
     "text": [
      "0 cecilia\n",
      "1 Lise\n",
      "2 Marie\n",
      "3 Anupam\n",
      "4 Anubhav\n",
      "5 Shyamsunder\n",
      "6 Roger\n",
      "Shyamsunder\n"
     ]
    }
   ],
   "source": [
    "name = ['cecilia','Lise','Marie','Anupam','Anubhav','Shyamsunder','Roger']\n",
    "counts = [len(n) for n in name]\n",
    "for i , name in enumerate(name): \n",
    "    print(i,name)\n",
    "    count = counts[1]\n",
    "    if count > max_count:\n",
    "        longest_name = name\n",
    "        max_count = count\n",
    "\n",
    "print(longest_name)"
   ]
  },
  {
   "cell_type": "code",
   "execution_count": 13,
   "metadata": {},
   "outputs": [
    {
     "name": "stdout",
     "output_type": "stream",
     "text": [
      "Loop: 0\n",
      "Loop: 1\n",
      "Loop: 2\n",
      "Else bLOCK!\n",
      "........................\n",
      "Loop 0\n",
      "Loop 1\n",
      "........................\n",
      "For Else Block !!!\n"
     ]
    }
   ],
   "source": [
    "\n",
    "\n",
    "# Avoid using else block after for and while loop \n",
    "for i in range(3):\n",
    "    print('Loop:',i)\n",
    "else:\n",
    "    print('Else bLOCK!')\n",
    "\n",
    "print('........................')\n",
    "\n",
    "for i in range(3):\n",
    "    print('Loop',i)\n",
    "    if i == 1:\n",
    "        break\n",
    "else:\n",
    "    print('Else Block!')\n",
    "\n",
    "print('........................')\n",
    "\n",
    "for i in []:\n",
    "    print('Never Runs')\n",
    "else:\n",
    "    print('For Else Block !!!')\n",
    "\n",
    "\n"
   ]
  },
  {
   "cell_type": "code",
   "execution_count": 21,
   "metadata": {},
   "outputs": [
    {
     "name": "stdout",
     "output_type": "stream",
     "text": [
      "2\n",
      "Make Lemonade with 2 lemons\n",
      "Make Lemonade with 2 lemons\n"
     ]
    }
   ],
   "source": [
    "# Prevent Repetition with Assignment Expression\n",
    "\n",
    "fresh_fruit = {'apple':10,'banana':8,'lemon':2}\n",
    "\n",
    "def make_lemonade(count):\n",
    "    print(f'Make Lemonade with {count} lemons')\n",
    "def out_of_Stock():\n",
    "    print('out of stock!!')\n",
    "count = fresh_fruit.get(\"lemon\",0) \n",
    "print(count)\n",
    "if count:\n",
    "    make_lemonade(count)\n",
    "else:\n",
    "    out_of_Stock()\n",
    "\n",
    "if count := fresh_fruit.get('lemon',0):\n",
    "    make_lemonade(count)\n",
    "else:\n",
    "    out_of_Stock()"
   ]
  },
  {
   "cell_type": "code",
   "execution_count": null,
   "metadata": {},
   "outputs": [],
   "source": []
  },
  {
   "cell_type": "code",
   "execution_count": null,
   "metadata": {},
   "outputs": [],
   "source": []
  },
  {
   "cell_type": "code",
   "execution_count": null,
   "metadata": {},
   "outputs": [],
   "source": []
  },
  {
   "cell_type": "code",
   "execution_count": null,
   "metadata": {},
   "outputs": [],
   "source": []
  },
  {
   "cell_type": "code",
   "execution_count": null,
   "metadata": {},
   "outputs": [],
   "source": []
  },
  {
   "cell_type": "code",
   "execution_count": null,
   "metadata": {},
   "outputs": [],
   "source": []
  },
  {
   "cell_type": "code",
   "execution_count": null,
   "metadata": {},
   "outputs": [],
   "source": []
  },
  {
   "cell_type": "code",
   "execution_count": 57,
   "metadata": {},
   "outputs": [],
   "source": []
  },
  {
   "cell_type": "code",
   "execution_count": null,
   "metadata": {},
   "outputs": [],
   "source": []
  },
  {
   "cell_type": "code",
   "execution_count": null,
   "metadata": {},
   "outputs": [],
   "source": []
  },
  {
   "cell_type": "code",
   "execution_count": null,
   "metadata": {},
   "outputs": [],
   "source": []
  },
  {
   "cell_type": "code",
   "execution_count": null,
   "metadata": {},
   "outputs": [],
   "source": []
  },
  {
   "cell_type": "code",
   "execution_count": null,
   "metadata": {},
   "outputs": [],
   "source": []
  },
  {
   "cell_type": "code",
   "execution_count": null,
   "metadata": {},
   "outputs": [],
   "source": []
  },
  {
   "cell_type": "code",
   "execution_count": null,
   "metadata": {},
   "outputs": [],
   "source": []
  }
 ],
 "metadata": {
  "kernelspec": {
   "display_name": "Python 3.10.0 64-bit",
   "language": "python",
   "name": "python3"
  },
  "language_info": {
   "codemirror_mode": {
    "name": "ipython",
    "version": 3
   },
   "file_extension": ".py",
   "mimetype": "text/x-python",
   "name": "python",
   "nbconvert_exporter": "python",
   "pygments_lexer": "ipython3",
   "version": "3.10.0"
  },
  "orig_nbformat": 4,
  "vscode": {
   "interpreter": {
    "hash": "369f2c481f4da34e4445cda3fffd2e751bd1c4d706f27375911949ba6bb62e1c"
   }
  }
 },
 "nbformat": 4,
 "nbformat_minor": 2
}
